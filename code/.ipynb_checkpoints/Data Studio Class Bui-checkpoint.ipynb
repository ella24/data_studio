{
 "cells": [
  {
   "cell_type": "code",
   "execution_count": 5,
   "metadata": {},
   "outputs": [],
   "source": [
    "#d3.select(\"#g-nurses\").select(\"svg\").selectAll(\"text\").attr(\"display\",\"none\")\n",
    "#d3.select(\".color-key-wrap\").remove()"
   ]
  },
  {
   "cell_type": "markdown",
   "metadata": {},
   "source": [
    "Remember to ReLabel. You can rewrite the names of the categories we find in a database online.\n",
    "Try to make a chart with time as a data point\n",
    "https://www.lynda.com/D3js-tutorials/Downloading-installing-D3/162449/185047-4.html\n",
    "Example from -The Changing Nature of Middle-Class Jobs-\n",
    "https://www.atf.gov/resource-center/data-statistics\n",
    "https://www.atf.gov/qa-category/national-firearms-act-nfa\n",
    "Use text as an object.Scraping insults (Kevin Quealy)"
   ]
  },
  {
   "cell_type": "code",
   "execution_count": null,
   "metadata": {},
   "outputs": [],
   "source": []
  }
 ],
 "metadata": {
  "kernelspec": {
   "display_name": "Python 3",
   "language": "python",
   "name": "python3"
  },
  "language_info": {
   "codemirror_mode": {
    "name": "ipython",
    "version": 3
   },
   "file_extension": ".py",
   "mimetype": "text/x-python",
   "name": "python",
   "nbconvert_exporter": "python",
   "pygments_lexer": "ipython3",
   "version": "3.6.5"
  }
 },
 "nbformat": 4,
 "nbformat_minor": 2
}
