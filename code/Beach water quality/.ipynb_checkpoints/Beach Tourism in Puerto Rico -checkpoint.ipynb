{
 "cells": [
  {
   "cell_type": "markdown",
   "metadata": {},
   "source": [
    "Data from the national newspapers El Nuevo Dia "
   ]
  },
  {
   "cell_type": "code",
   "execution_count": 42,
   "metadata": {},
   "outputs": [],
   "source": [
    "import requests\n",
    "from bs4 import BeautifulSoup"
   ]
  },
  {
   "cell_type": "code",
   "execution_count": 43,
   "metadata": {},
   "outputs": [],
   "source": [
    "response = requests.get(\"https://www.elnuevodia.com/noticias/locales/fotogalerias/conocelasplayasmasvisitadasdelaisla-galeria-2343213/\")\n",
    "doc = BeautifulSoup(response.text, 'html.parser')"
   ]
  },
  {
   "cell_type": "code",
   "execution_count": 55,
   "metadata": {},
   "outputs": [
    {
     "name": "stdout",
     "output_type": "stream",
     "text": [
      "[{'beach': '\\n\\r\\n                                    Playa del Condado, en San Juan. Aunque de fácil acceso peatonal, puede ser peligrosa para bañistas. Posee roca arenisca en algunas áreas, poca vegetación y casi ningún lugar de sombra. (GFR Media/Archivo) \\n\\n'}, {'beach': '\\n\\r\\n                                    Balneario de Carolina. El lugar cuenta con áreas con sombra y vegetación principalmente compuesta por palmas de coco, almendros y uvas de playa. También cuenta con salvavidas. (GFR Media/Archivo) \\n\\n'}, {'beach': '\\n\\r\\n                                    Boquerón, en Cabo Rojo. La playa está localizada en la Bahía de Boquerón y cuenta con facilidades para personas discapacitadas. La vegetación consiste principalmente de palmas de coco y arena de origen calcáreo. (GFR Media/Archivo) \\n\\n'}, {'beach': '\\n\\r\\n                                    Buyé, en Cabo Rojo. Esta playa posee aguas tranquilas con una franja de arena ancha. Las instalaciones presentan problemas de acceso y en las estructuras en la Zona Marítimo Terrestre. (GFR Media/Archivo) \\n\\n'}, {'beach': '\\n\\r\\n                                    El Escambrón, en San Juan. Se caracteriza por la presencia de roca arenisca a lo largo de la playa y en la parte exterior. Es muy utilizada por bañistas y surfers. Su localización es adyacente al Parque Sixto Escobar. (GFR Media/Archivo) \\n\\n'}, {'beach': '\\n\\r\\n                                    Jobos, en Isabela – Una de las preferidas por los surfers. Es peligrosa para nadar debido a sus fuertes corrientes. (GFR Media/Archivo) \\n\\n'}, {'beach': '\\n\\r\\n                                    Balneario Seven Seas, en Fajardo. Es una franja de arena ancha, aguas claras y tranquilas, que cuentan con salvavidas. En el área adyacente existen ecosistemas de mangle y lagunas costeras de gran valor ecológico. (GFR Media/Archivo) \\n\\n'}, {'beach': '\\n\\r\\n                                    Flamenco, en Culebra. Se caracteriza por su arena blanca y aguas claras y tranquilas. La vegetación está compuesta por palmas, uvas de playa, robles y almendros. El área es el hogar de varias especies de aves acuáticas. (GFR Media/Archivo) \\n\\n'}, {'beach': '\\n\\r\\n                                    Balneario La Monserrate, en Luquillo. Tiene una franja de arena ancha y aguas relativamente tranquilas. Está protegida de erosión y corrientes por Punta Embarcadero y Punta La Bandera al norte. (GFR Media/Archivo) \\n\\n'}, {'beach': '\\n\\r\\n                                    Ocean Park, San Juan. La vegetación consiste principalmente de palmas de coco. Su acceso es limitado a través de la urbanización colindante y contiene algunos tramos con arenisca lo que representa un riesgo para los bañistas. \\n\\n'}, {'beach': '\\n\\r\\n                                    Isla Verde, en Carolina. Es una de las playas preferidas para practicar deportes acuáticos. Vegetación escasa que consiste de palmas y almendros. Su franja de arena se ha visto reducida debido a problemas de erosión acelerada. (GFR Media/Archivo) \\n\\n'}, {'beach': '\\n\\r\\n                                    Playa Sucia o La Playuela, en Cabo Rojo. Se destaca por sus aguas cristalinas y arena blanca. (GFR Media/Archivo) \\n\\n'}, {'beach': '\\n\\r\\n                                    Piñones, en Loíza. Cuenta con buena sombra y con un contorno de fondo llano y arenoso, de aguas tranquilas. Se puede observar la presencia de roca arenisca y problemas de erosión en áreas aledañas debido al tráfico vehicular. (GFR Media/Archivo) \\n\\n'}, {'beach': '\\n\\r\\n                                    Combate, en Cabo Rojo. Se encuentra al norte de Punta Águila, adyacente al área de los salitrales. Una franja de arena ancha y vegetación alta le provee buena sombra. Los árboles de emajagüilla y almendros tienen parte del terreno. (GFR Media/Archivo) \\n\\n'}, {'beach': '\\n\\r\\n                                    Crash Boat, en Cabo Rojo. Cuenta con facilidades recreativas administradas por el municipio de Aguadilla. Además, tiene un parque recreativo, un paseo tablado y una villa pesquera. (GFR Media/Archivo) \\n\\n'}]\n"
     ]
    }
   ],
   "source": [
    "beaches = doc.find_all(class_='photo-gallery-caption')\n",
    "rows=[]\n",
    "for beach in beaches:\n",
    "    row={}\n",
    "    row['beach']= beach.text\n",
    "    rows.append(row)\n",
    "print(rows)"
   ]
  },
  {
   "cell_type": "code",
   "execution_count": 61,
   "metadata": {},
   "outputs": [
    {
     "data": {
      "text/html": [
       "<div>\n",
       "<style scoped>\n",
       "    .dataframe tbody tr th:only-of-type {\n",
       "        vertical-align: middle;\n",
       "    }\n",
       "\n",
       "    .dataframe tbody tr th {\n",
       "        vertical-align: top;\n",
       "    }\n",
       "\n",
       "    .dataframe thead th {\n",
       "        text-align: right;\n",
       "    }\n",
       "</style>\n",
       "<table border=\"1\" class=\"dataframe\">\n",
       "  <thead>\n",
       "    <tr style=\"text-align: right;\">\n",
       "      <th></th>\n",
       "      <th>beach</th>\n",
       "    </tr>\n",
       "  </thead>\n",
       "  <tbody>\n",
       "    <tr>\n",
       "      <th>0</th>\n",
       "      <td>\\n\\r\\n                                    Play...</td>\n",
       "    </tr>\n",
       "    <tr>\n",
       "      <th>1</th>\n",
       "      <td>\\n\\r\\n                                    Baln...</td>\n",
       "    </tr>\n",
       "    <tr>\n",
       "      <th>2</th>\n",
       "      <td>\\n\\r\\n                                    Boqu...</td>\n",
       "    </tr>\n",
       "    <tr>\n",
       "      <th>3</th>\n",
       "      <td>\\n\\r\\n                                    Buyé...</td>\n",
       "    </tr>\n",
       "    <tr>\n",
       "      <th>4</th>\n",
       "      <td>\\n\\r\\n                                    El E...</td>\n",
       "    </tr>\n",
       "  </tbody>\n",
       "</table>\n",
       "</div>"
      ],
      "text/plain": [
       "                                               beach\n",
       "0  \\n\\r\\n                                    Play...\n",
       "1  \\n\\r\\n                                    Baln...\n",
       "2  \\n\\r\\n                                    Boqu...\n",
       "3  \\n\\r\\n                                    Buyé...\n",
       "4  \\n\\r\\n                                    El E..."
      ]
     },
     "execution_count": 61,
     "metadata": {},
     "output_type": "execute_result"
    }
   ],
   "source": [
    "import pandas as pd\n",
    "\n",
    "df=pd.DataFrame(rows)"
   ]
  },
  {
   "cell_type": "code",
   "execution_count": 62,
   "metadata": {},
   "outputs": [],
   "source": [
    "df.to_csv('Most visited beaches',index=False)"
   ]
  },
  {
   "cell_type": "code",
   "execution_count": 65,
   "metadata": {},
   "outputs": [
    {
     "data": {
      "text/html": [
       "<div>\n",
       "<style scoped>\n",
       "    .dataframe tbody tr th:only-of-type {\n",
       "        vertical-align: middle;\n",
       "    }\n",
       "\n",
       "    .dataframe tbody tr th {\n",
       "        vertical-align: top;\n",
       "    }\n",
       "\n",
       "    .dataframe thead th {\n",
       "        text-align: right;\n",
       "    }\n",
       "</style>\n",
       "<table border=\"1\" class=\"dataframe\">\n",
       "  <thead>\n",
       "    <tr style=\"text-align: right;\">\n",
       "      <th></th>\n",
       "      <th>Beach</th>\n",
       "      <th>Town</th>\n",
       "    </tr>\n",
       "  </thead>\n",
       "  <tbody>\n",
       "    <tr>\n",
       "      <th>0</th>\n",
       "      <td>Playa del Condado</td>\n",
       "      <td>San Juan</td>\n",
       "    </tr>\n",
       "    <tr>\n",
       "      <th>1</th>\n",
       "      <td>Balneario de Carolina</td>\n",
       "      <td>Carolina</td>\n",
       "    </tr>\n",
       "    <tr>\n",
       "      <th>2</th>\n",
       "      <td>Boquerón</td>\n",
       "      <td>Cabo Rojo</td>\n",
       "    </tr>\n",
       "    <tr>\n",
       "      <th>3</th>\n",
       "      <td>Buyé</td>\n",
       "      <td>Cabo Rojo</td>\n",
       "    </tr>\n",
       "    <tr>\n",
       "      <th>4</th>\n",
       "      <td>El Escambrón</td>\n",
       "      <td>San Juan</td>\n",
       "    </tr>\n",
       "    <tr>\n",
       "      <th>5</th>\n",
       "      <td>Jobos</td>\n",
       "      <td>Isabela</td>\n",
       "    </tr>\n",
       "    <tr>\n",
       "      <th>6</th>\n",
       "      <td>Balneario Seven Seas</td>\n",
       "      <td>Fajardo</td>\n",
       "    </tr>\n",
       "    <tr>\n",
       "      <th>7</th>\n",
       "      <td>Flamenco</td>\n",
       "      <td>Culebra</td>\n",
       "    </tr>\n",
       "    <tr>\n",
       "      <th>8</th>\n",
       "      <td>Balneario La Monserrate</td>\n",
       "      <td>Luquillo</td>\n",
       "    </tr>\n",
       "    <tr>\n",
       "      <th>9</th>\n",
       "      <td>Ocean Park</td>\n",
       "      <td>San Juan</td>\n",
       "    </tr>\n",
       "    <tr>\n",
       "      <th>10</th>\n",
       "      <td>Isla Verde</td>\n",
       "      <td>Carolina</td>\n",
       "    </tr>\n",
       "    <tr>\n",
       "      <th>11</th>\n",
       "      <td>Playa Sucia or La Playuela</td>\n",
       "      <td>Cabo Rojo</td>\n",
       "    </tr>\n",
       "    <tr>\n",
       "      <th>12</th>\n",
       "      <td>Piñones</td>\n",
       "      <td>Loíza</td>\n",
       "    </tr>\n",
       "    <tr>\n",
       "      <th>13</th>\n",
       "      <td>Combate</td>\n",
       "      <td>Cabo Rojo</td>\n",
       "    </tr>\n",
       "    <tr>\n",
       "      <th>14</th>\n",
       "      <td>Crash Boat</td>\n",
       "      <td>Aguadilla</td>\n",
       "    </tr>\n",
       "  </tbody>\n",
       "</table>\n",
       "</div>"
      ],
      "text/plain": [
       "                         Beach        Town\n",
       "0            Playa del Condado    San Juan\n",
       "1        Balneario de Carolina   Carolina \n",
       "2                     Boquerón   Cabo Rojo\n",
       "3                         Buyé   Cabo Rojo\n",
       "4                 El Escambrón    San Juan\n",
       "5                        Jobos    Isabela \n",
       "6         Balneario Seven Seas     Fajardo\n",
       "7                     Flamenco     Culebra\n",
       "8      Balneario La Monserrate   Luquillo \n",
       "9                   Ocean Park    San Juan\n",
       "10                  Isla Verde    Carolina\n",
       "11  Playa Sucia or La Playuela   Cabo Rojo\n",
       "12                     Piñones       Loíza\n",
       "13                     Combate   Cabo Rojo\n",
       "14                  Crash Boat   Aguadilla"
      ]
     },
     "execution_count": 65,
     "metadata": {},
     "output_type": "execute_result"
    }
   ],
   "source": [
    "pd.read_csv('Most visited beaches')"
   ]
  }
 ],
 "metadata": {
  "kernelspec": {
   "display_name": "Python 3",
   "language": "python",
   "name": "python3"
  },
  "language_info": {
   "codemirror_mode": {
    "name": "ipython",
    "version": 3
   },
   "file_extension": ".py",
   "mimetype": "text/x-python",
   "name": "python",
   "nbconvert_exporter": "python",
   "pygments_lexer": "ipython3",
   "version": "3.6.5"
  }
 },
 "nbformat": 4,
 "nbformat_minor": 2
}
