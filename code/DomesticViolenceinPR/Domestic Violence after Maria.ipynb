{
 "cells": [
  {
   "cell_type": "markdown",
   "metadata": {},
   "source": [
    "There are no words to describe the aftermath of a natural disaster. No article, book or movie can demonstrate its effects on the lives of people. \n",
    "The 2017 Atlantic hurricane season was catastrophic and to this day it has been the costliest to the US Government.Its aftermath is far from dissapearing, specially in Puerto Rico where the economic crisis keeps drowning american citizens. \n",
    "The marks left by Harvey, Irma, and Maria are stil there. This project intends to analyze its impact on human behavior by finding domestic violence data. "
   ]
  },
  {
   "cell_type": "code",
   "execution_count": 1,
   "metadata": {},
   "outputs": [],
   "source": [
    "import pandas as pd\n",
    "import matplotlib.pyplot as plt\n",
    "%matplotlib inline\n",
    "import re\n",
    "from cycler import cycler\n",
    "import glob"
   ]
  },
  {
   "cell_type": "markdown",
   "metadata": {},
   "source": [
    "Articles: \n",
    "https://thecrimereport.org/2018/04/17/domestic-abuse-puerto-ricos-women-in-crisis/#\n",
    "\n",
    "http://sincomillas.com/datos-oficiales-de-violencia-contra-la-mujer-en-puerto-rico-no-son-confiables-despues-del-huracan-maria/\n",
    "\n"
   ]
  }
 ],
 "metadata": {
  "kernelspec": {
   "display_name": "Python 3",
   "language": "python",
   "name": "python3"
  },
  "language_info": {
   "codemirror_mode": {
    "name": "ipython",
    "version": 3
   },
   "file_extension": ".py",
   "mimetype": "text/x-python",
   "name": "python",
   "nbconvert_exporter": "python",
   "pygments_lexer": "ipython3",
   "version": "3.6.5"
  }
 },
 "nbformat": 4,
 "nbformat_minor": 2
}
