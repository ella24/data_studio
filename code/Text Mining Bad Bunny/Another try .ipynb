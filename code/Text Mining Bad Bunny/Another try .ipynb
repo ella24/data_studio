{
 "cells": [
  {
   "cell_type": "code",
   "execution_count": 4,
   "metadata": {},
   "outputs": [
    {
     "name": "stdout",
     "output_type": "stream",
     "text": [
      "200\n"
     ]
    }
   ],
   "source": [
    "import requests\n",
    "from bs4 import BeautifulSoup\n",
    "import re\n",
    "import string\n",
    "from time import sleep\n",
    "import random\n",
    "import pickle\n",
    "import urllib\n",
    "import urlopen\n",
    "import os\n",
    "from hashlib import sha1  "
   ]
  },
  {
   "cell_type": "code",
   "execution_count": 16,
   "metadata": {},
   "outputs": [],
   "source": [
    "def get_songs(proxies, user_agents, artists):\n",
    "    base = 'http://www.azlyrics.com/b/badbunny.html'\n",
    "    art_song_dict = {}\n",
    "    for artist in artists:    \n",
    "        url = base + artist[0] + '/' + artist + '.html'\n",
    "        sleep(random.randint(0,10))\n",
    "        response = requests.get(url, headers = {'User-Agent': random.choice(user_agents)}, proxies=random.choice(proxies))\n",
    "        soup = BeautifulSoup(response.content, 'lxml')\n",
    "        lang = []\n",
    "        for song in soup.findAll(target='_blank'):\n",
    "            lang.append(str(song.text))\n",
    "        art_song_dict[artist] = lang\n",
    "        pickle.dump(art_song_dict, open(artist + '_songs.pickle', 'wb'))\n",
    "    return art_song_dict"
   ]
  },
  {
   "cell_type": "code",
   "execution_count": 20,
   "metadata": {},
   "outputs": [],
   "source": [
    "def get_url_AZ(artist, song):\n",
    "       \n",
    "    song = re.sub('['+string.punctuation+']', '', song).replace(' ','').lower()\n",
    "    base = 'http://www.azlyrics.com/lyrics/'\n",
    "    rest = artist + '/' + song + '.html'\n",
    "    return base + rest"
   ]
  },
  {
   "cell_type": "code",
   "execution_count": 22,
   "metadata": {},
   "outputs": [
    {
     "name": "stdout",
     "output_type": "stream",
     "text": [
      "<function get_url_AZ at 0x063EDB28>\n"
     ]
    }
   ],
   "source": [
    "print(get_url_AZ)"
   ]
  },
  {
   "cell_type": "code",
   "execution_count": 23,
   "metadata": {},
   "outputs": [],
   "source": [
    "def get_lyric_AZ(url, proxies, user_agents):\n",
    "\n",
    "    if load_local(url):\n",
    "        soup = BeautifulSoup(load_local(url), 'lxml')\n",
    "        page_lyric = soup.findAll(style=\"margin-left:10px;margin-right:10px;\")\n",
    "        lyric = re.sub('[(<.!,;?>/\\-)]', \" \",  str(page_lyric)).split()\n",
    "        lyric = [word for word in lyric if word != 'br']\n",
    "        return lyric[10:-4]\n",
    "    else:\n",
    "        sleep(random.randint(0,20))\n",
    "        response = requests.get(url, headers = {'User-Agent': random.choice(user_agents)}, proxies = random.choice(proxies))\n",
    "        store_local(url, response.content)\n",
    "        soup = BeautifulSoup(response.content, 'lxml')\n",
    "        page_lyric = soup.findAll(style=\"margin-left:10px;margin-right:10px;\")\n",
    "        lyric = re.sub('[(<.!,;?>/\\-)]', \" \",  str(page_lyric)).split()\n",
    "        lyric = [word for word in lyric if word != 'br']\n",
    "        return lyric[10:-4]"
   ]
  },
  {
   "cell_type": "code",
   "execution_count": 25,
   "metadata": {},
   "outputs": [],
   "source": [
    "CACHE_DIR = os.path.join(os.path.dirname(\"Documents\\GitHub\\data_studio\\code\\Text Mining Bad Bunny\"), 'cache')"
   ]
  },
  {
   "cell_type": "code",
   "execution_count": 26,
   "metadata": {},
   "outputs": [],
   "source": [
    "def url_to_filename(url):\n",
    "    hash_file = sha1(url).hexdigest() + '.html'\n",
    "    return os.path.join(CACHE_DIR, hash_file)"
   ]
  },
  {
   "cell_type": "code",
   "execution_count": 27,
   "metadata": {},
   "outputs": [],
   "source": [
    "def store_local(url, content):\n",
    "    if not os.path.isdir(CACHE_DIR):\n",
    "        os.makedirs(CACHE_DIR)\n",
    "    local_path = url_to_filename(url)\n",
    "    with open(local_path, 'wb') as f:\n",
    "        f.write(content)"
   ]
  },
  {
   "cell_type": "code",
   "execution_count": 28,
   "metadata": {},
   "outputs": [],
   "source": [
    "def load_local(url):\n",
    "    local_path = url_to_filename(url)\n",
    "    if not os.path.exists(local_path):\n",
    "        return None\n",
    "\n",
    "    with open(local_path, 'rb') as f:\n",
    "        return f.read()"
   ]
  },
  {
   "cell_type": "code",
   "execution_count": 31,
   "metadata": {},
   "outputs": [],
   "source": [
    "def main():\n",
    "    master_dict = {}\n",
    "    avg_dict = {}\n",
    "    with open('rush_songs.pickle', 'rb') as f:\n",
    "        art_info = pickle.load(f) \n",
    "    for artist, songs in art_info.iteritems():\n",
    "        avg = []\n",
    "        lyrics = []\n",
    "        for song in songs:\n",
    "            print (artist, song)\n",
    "            url = get_url_AZ(artist,song)\n",
    "            lyric = get_lyric_AZ(url, proxies, user_agents)\n",
    "            print (lyric)\n",
    "            avg.append(len(lyric))\n",
    "            lyrics.append(lyric)\n",
    "        avg_dict[artist] = avg\n",
    "        master_dict[artist] = lyrics\n",
    "        print (artist, \"-------------------------completed----------------------------------\")\n",
    "        pickle.dump(avg_dict, open(artist + '_count.pickle', 'wb'))\n",
    "        pickle.dump(master_dict, open(artist + '_lyrics.pickle', 'wb'))\n",
    "    return 'Fully Completed!'"
   ]
  },
  {
   "cell_type": "code",
   "execution_count": 32,
   "metadata": {},
   "outputs": [
    {
     "ename": "FileNotFoundError",
     "evalue": "[Errno 2] No such file or directory: 'rush_songs.pickle'",
     "output_type": "error",
     "traceback": [
      "\u001b[1;31m---------------------------------------------------------------------------\u001b[0m",
      "\u001b[1;31mFileNotFoundError\u001b[0m                         Traceback (most recent call last)",
      "\u001b[1;32m<ipython-input-32-263240bbee7e>\u001b[0m in \u001b[0;36m<module>\u001b[1;34m()\u001b[0m\n\u001b[1;32m----> 1\u001b[1;33m \u001b[0mmain\u001b[0m\u001b[1;33m(\u001b[0m\u001b[1;33m)\u001b[0m\u001b[1;33m\u001b[0m\u001b[0m\n\u001b[0m",
      "\u001b[1;32m<ipython-input-31-d4bdd4e94b62>\u001b[0m in \u001b[0;36mmain\u001b[1;34m()\u001b[0m\n\u001b[0;32m      2\u001b[0m     \u001b[0mmaster_dict\u001b[0m \u001b[1;33m=\u001b[0m \u001b[1;33m{\u001b[0m\u001b[1;33m}\u001b[0m\u001b[1;33m\u001b[0m\u001b[0m\n\u001b[0;32m      3\u001b[0m     \u001b[0mavg_dict\u001b[0m \u001b[1;33m=\u001b[0m \u001b[1;33m{\u001b[0m\u001b[1;33m}\u001b[0m\u001b[1;33m\u001b[0m\u001b[0m\n\u001b[1;32m----> 4\u001b[1;33m     \u001b[1;32mwith\u001b[0m \u001b[0mopen\u001b[0m\u001b[1;33m(\u001b[0m\u001b[1;34m'rush_songs.pickle'\u001b[0m\u001b[1;33m,\u001b[0m \u001b[1;34m'rb'\u001b[0m\u001b[1;33m)\u001b[0m \u001b[1;32mas\u001b[0m \u001b[0mf\u001b[0m\u001b[1;33m:\u001b[0m\u001b[1;33m\u001b[0m\u001b[0m\n\u001b[0m\u001b[0;32m      5\u001b[0m         \u001b[0mart_info\u001b[0m \u001b[1;33m=\u001b[0m \u001b[0mpickle\u001b[0m\u001b[1;33m.\u001b[0m\u001b[0mload\u001b[0m\u001b[1;33m(\u001b[0m\u001b[0mf\u001b[0m\u001b[1;33m)\u001b[0m\u001b[1;33m\u001b[0m\u001b[0m\n\u001b[0;32m      6\u001b[0m     \u001b[1;32mfor\u001b[0m \u001b[0martist\u001b[0m\u001b[1;33m,\u001b[0m \u001b[0msongs\u001b[0m \u001b[1;32min\u001b[0m \u001b[0mart_info\u001b[0m\u001b[1;33m.\u001b[0m\u001b[0miteritems\u001b[0m\u001b[1;33m(\u001b[0m\u001b[1;33m)\u001b[0m\u001b[1;33m:\u001b[0m\u001b[1;33m\u001b[0m\u001b[0m\n",
      "\u001b[1;31mFileNotFoundError\u001b[0m: [Errno 2] No such file or directory: 'rush_songs.pickle'"
     ]
    }
   ],
   "source": [
    "main()"
   ]
  },
  {
   "cell_type": "code",
   "execution_count": null,
   "metadata": {},
   "outputs": [],
   "source": []
  }
 ],
 "metadata": {
  "kernelspec": {
   "display_name": "Python 3",
   "language": "python",
   "name": "python3"
  },
  "language_info": {
   "codemirror_mode": {
    "name": "ipython",
    "version": 3
   },
   "file_extension": ".py",
   "mimetype": "text/x-python",
   "name": "python",
   "nbconvert_exporter": "python",
   "pygments_lexer": "ipython3",
   "version": "3.6.5"
  }
 },
 "nbformat": 4,
 "nbformat_minor": 2
}
